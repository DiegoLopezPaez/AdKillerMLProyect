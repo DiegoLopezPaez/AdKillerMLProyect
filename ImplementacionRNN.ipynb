{
 "cells": [
  {
   "cell_type": "code",
   "execution_count": 1,
   "metadata": {
    "executionInfo": {
     "elapsed": 11734,
     "status": "ok",
     "timestamp": 1649084569276,
     "user": {
      "displayName": "Diego López",
      "userId": "15812219008632119568"
     },
     "user_tz": 180
    },
    "id": "w01xNtrpCgnY"
   },
   "outputs": [],
   "source": [
    "import librosa\n",
    "from sklearn.model_selection import train_test_split\n",
    "import numpy as np\n",
    "#TODO\n",
    "#Ver si vamos a usar Drive para los datasets\n",
    "#from google.colab import drive\n",
    "import os\n",
    "import json\n",
    "import tensorflow.keras as keras\n",
    "import pickle #Para exportar el modelo"
   ]
  },
  {
   "cell_type": "code",
   "execution_count": 26,
   "metadata": {
    "colab": {
     "base_uri": "https://localhost:8080/"
    },
    "executionInfo": {
     "elapsed": 2257,
     "status": "ok",
     "timestamp": 1649089812852,
     "user": {
      "displayName": "Diego López",
      "userId": "15812219008632119568"
     },
     "user_tz": 180
    },
    "id": "HsjEtl2cChe4",
    "outputId": "56ff0923-ebc2-4959-a823-2410e37214ea"
   },
   "outputs": [
    {
     "name": "stdout",
     "output_type": "stream",
     "text": [
      "Drive already mounted at /content/drive; to attempt to forcibly remount, call drive.mount(\"/content/drive\", force_remount=True).\n"
     ]
    }
   ],
   "source": [
    "#drive.mount('/content/drive')"
   ]
  },
  {
   "cell_type": "code",
   "execution_count": 3,
   "metadata": {
    "executionInfo": {
     "elapsed": 11,
     "status": "ok",
     "timestamp": 1649084587976,
     "user": {
      "displayName": "Diego López",
      "userId": "15812219008632119568"
     },
     "user_tz": 180
    },
    "id": "QsRM6Q7BDNcy"
   },
   "outputs": [],
   "source": [
    "#TODO\n",
    "#Definir el path de los datos\n",
    "data_path = \"some_path/jsondataaudio.json\"\n",
    "epochs = 40 #Cantidad de ciclos completos de entrenamiento de todos los datos \n",
    "batch_size = 16 #Cantidad de datos utilizados en las iteraciones de entrenamientos\n",
    "num_keywords = 2 #Numero de outputs, categorias\n",
    "neuronas_por_capa = 128"
   ]
  },
  {
   "cell_type": "code",
   "execution_count": 4,
   "metadata": {
    "executionInfo": {
     "elapsed": 10,
     "status": "ok",
     "timestamp": 1649084587977,
     "user": {
      "displayName": "Diego López",
      "userId": "15812219008632119568"
     },
     "user_tz": 180
    },
    "id": "69-pS6f1FtWt"
   },
   "outputs": [],
   "source": [
    "def load_dataset(data_path):\n",
    "  with open(data_path, \"r\") as fp:\n",
    "    data = json.load(fp)\n",
    "\n",
    "  #Transformamos las filas de mfcc y labels que estaban como listas a numpay arrays\n",
    "  X = np.array(data[\"mfcc\"])\n",
    "  y = np.array(data[\"labels\"])\n",
    "\n",
    "  return X, y"
   ]
  },
  {
   "cell_type": "code",
   "execution_count": 5,
   "metadata": {
    "executionInfo": {
     "elapsed": 9,
     "status": "ok",
     "timestamp": 1649084587977,
     "user": {
      "displayName": "Diego López",
      "userId": "15812219008632119568"
     },
     "user_tz": 180
    },
    "id": "dL8G5-1HFXG9"
   },
   "outputs": [],
   "source": [
    "def get_data_splits(data_path, test_size = 0.2, test_validation_size = 0.1):\n",
    "  #cargamos el dataset\n",
    "  X, y = load_dataset(data_path)\n",
    "\n",
    "  #creamos los train/validation/test splits\n",
    "  X_train, X_test, y_train, y_test = train_test_split(X, y, test_size = test_size)\n",
    "  X_train, X_validation, y_train, y_validation = train_test_split(X_train, y_train, test_size = test_validation_size )\n",
    "\n",
    "  return X_train, X_validation, X_test, y_train, y_validation, y_test"
   ]
  },
  {
   "cell_type": "code",
   "execution_count": 6,
   "metadata": {
    "executionInfo": {
     "elapsed": 9,
     "status": "ok",
     "timestamp": 1649084587978,
     "user": {
      "displayName": "Diego López",
      "userId": "15812219008632119568"
     },
     "user_tz": 180
    },
    "id": "8L9N32kKqILo"
   },
   "outputs": [],
   "source": [
    "def predict(X, y, model):\n",
    "  X = X[np.newaxis, ...]\n",
    "  prediccion = model.predict(X)\n",
    "  prediccion = np.argmax(prediccion, axis=1)\n",
    "  print(f\"Esperado: {y} Prediccion: {prediccion}\")\n"
   ]
  },
  {
   "cell_type": "code",
   "execution_count": 7,
   "metadata": {
    "executionInfo": {
     "elapsed": 8,
     "status": "ok",
     "timestamp": 1649084587978,
     "user": {
      "displayName": "Diego López",
      "userId": "15812219008632119568"
     },
     "user_tz": 180
    },
    "id": "ia4JeY3gHzI0"
   },
   "outputs": [],
   "source": [
    "def build_model(input_shape):\n",
    "  #RNN\n",
    "  #build network\n",
    "  model = keras.Sequential()\n",
    "\n",
    "  #lstm layer 1\n",
    "  model.add(keras.layers.LSTM(neuronas_por_capa, input_shape = input_shape, return_sequences = True))\n",
    "\n",
    "  #lstm layer 2 recibe la secuencia de layer 1, pero ahora devuelve un vector\n",
    "  model.add(keras.layers.LSTM(neuronas_por_capa))\n",
    "\n",
    "  #dense layer\n",
    "  model.add(keras.layers.Dense(neuronas_por_capa, activation = \"relu\"))\n",
    "\n",
    "  #para reducir overfitting\n",
    "  model.add(keras.layers.Dropout(0.3))\n",
    "\n",
    "  #softmax classifier\n",
    "  model.add(keras.layers.Dense(num_keywords, activation = \"softmax\"))\n",
    "  #compile the model\n",
    "\n",
    "  return model"
   ]
  },
  {
   "cell_type": "markdown",
   "metadata": {
    "id": "NA5jGoaOC7Bm"
   },
   "source": [
    "Cargar datos de entrenamiento/validacion/testeo"
   ]
  },
  {
   "cell_type": "code",
   "execution_count": 8,
   "metadata": {
    "executionInfo": {
     "elapsed": 18725,
     "status": "ok",
     "timestamp": 1649084606696,
     "user": {
      "displayName": "Diego López",
      "userId": "15812219008632119568"
     },
     "user_tz": 180
    },
    "id": "lQzUix5AC6WR"
   },
   "outputs": [],
   "source": [
    "X_train, X_validation, X_test, y_train, y_validation, y_test = get_data_splits(data_path) "
   ]
  },
  {
   "cell_type": "markdown",
   "metadata": {
    "id": "xLKWgR6-DYP3"
   },
   "source": [
    "Modelo"
   ]
  },
  {
   "cell_type": "code",
   "execution_count": 9,
   "metadata": {
    "executionInfo": {
     "elapsed": 1117,
     "status": "ok",
     "timestamp": 1649084607786,
     "user": {
      "displayName": "Diego López",
      "userId": "15812219008632119568"
     },
     "user_tz": 180
    },
    "id": "2kuakhQTDUNN"
   },
   "outputs": [],
   "source": [
    "input_shape = (X_train.shape[1], X_train.shape[2]) #Es la forma de input que la RNN espera recibir\n",
    "model = build_model(input_shape)"
   ]
  },
  {
   "cell_type": "code",
   "execution_count": 14,
   "metadata": {
    "executionInfo": {
     "elapsed": 41,
     "status": "ok",
     "timestamp": 1649084607799,
     "user": {
      "displayName": "Diego López",
      "userId": "15812219008632119568"
     },
     "user_tz": 180
    },
    "id": "tdlM6rlAom7H"
   },
   "outputs": [],
   "source": [
    "optimizador = keras.optimizers.Adam(learning_rate = 0.0001)\n",
    "model.compile(optimizer = optimizador,\n",
    "              loss = \"sparse_categorical_crossentropy\",\n",
    "              metrics = [\"accuracy\"]) #metrics despues nos ayudara a visualizar la precision con model.fit"
   ]
  },
  {
   "cell_type": "markdown",
   "metadata": {
    "id": "ts0XFaDQEAqZ"
   },
   "source": [
    "Entrenar"
   ]
  },
  {
   "cell_type": "code",
   "execution_count": 16,
   "metadata": {
    "colab": {
     "base_uri": "https://localhost:8080/"
    },
    "executionInfo": {
     "elapsed": 4882299,
     "status": "ok",
     "timestamp": 1649089574143,
     "user": {
      "displayName": "Diego López",
      "userId": "15812219008632119568"
     },
     "user_tz": 180
    },
    "id": "aCO-dMWfEAMv",
    "outputId": "607bdb4c-1b12-45fc-8845-8d1787130572"
   },
   "outputs": [
    {
     "name": "stdout",
     "output_type": "stream",
     "text": [
      "Epoch 1/40\n",
      "450/450 [==============================] - 116s 259ms/step - loss: 1.7809 - accuracy: 0.3715 - val_loss: 1.5155 - val_accuracy: 0.4493\n",
      "Epoch 2/40\n",
      "450/450 [==============================] - 110s 243ms/step - loss: 1.4042 - accuracy: 0.4980 - val_loss: 1.3101 - val_accuracy: 0.5344\n",
      "Epoch 3/40\n",
      "450/450 [==============================] - 108s 241ms/step - loss: 1.2268 - accuracy: 0.5692 - val_loss: 1.1918 - val_accuracy: 0.5557\n",
      "Epoch 4/40\n",
      "450/450 [==============================] - 113s 251ms/step - loss: 1.1264 - accuracy: 0.6051 - val_loss: 1.1384 - val_accuracy: 0.6045\n",
      "Epoch 5/40\n",
      "450/450 [==============================] - 109s 242ms/step - loss: 1.0249 - accuracy: 0.6433 - val_loss: 1.0412 - val_accuracy: 0.6108\n",
      "Epoch 6/40\n",
      "450/450 [==============================] - 109s 243ms/step - loss: 0.9454 - accuracy: 0.6760 - val_loss: 1.0102 - val_accuracy: 0.6533\n",
      "Epoch 7/40\n",
      "450/450 [==============================] - 111s 247ms/step - loss: 0.8759 - accuracy: 0.7027 - val_loss: 0.9872 - val_accuracy: 0.6546\n",
      "Epoch 8/40\n",
      "450/450 [==============================] - 110s 245ms/step - loss: 0.8171 - accuracy: 0.7250 - val_loss: 0.9589 - val_accuracy: 0.6708\n",
      "Epoch 9/40\n",
      "450/450 [==============================] - 109s 242ms/step - loss: 0.7817 - accuracy: 0.7307 - val_loss: 0.9058 - val_accuracy: 0.6959\n",
      "Epoch 10/40\n",
      "450/450 [==============================] - 109s 243ms/step - loss: 0.7182 - accuracy: 0.7594 - val_loss: 0.9279 - val_accuracy: 0.6859\n",
      "Epoch 11/40\n",
      "450/450 [==============================] - 110s 243ms/step - loss: 0.7113 - accuracy: 0.7609 - val_loss: 0.9189 - val_accuracy: 0.7021\n",
      "Epoch 12/40\n",
      "450/450 [==============================] - 110s 244ms/step - loss: 0.6393 - accuracy: 0.7851 - val_loss: 0.8166 - val_accuracy: 0.7359\n",
      "Epoch 13/40\n",
      "450/450 [==============================] - 109s 243ms/step - loss: 0.6108 - accuracy: 0.7984 - val_loss: 0.8566 - val_accuracy: 0.7134\n",
      "Epoch 14/40\n",
      "450/450 [==============================] - 109s 241ms/step - loss: 0.5687 - accuracy: 0.8125 - val_loss: 0.8347 - val_accuracy: 0.7297\n",
      "Epoch 15/40\n",
      "450/450 [==============================] - 109s 243ms/step - loss: 0.5425 - accuracy: 0.8214 - val_loss: 0.7908 - val_accuracy: 0.7322\n",
      "Epoch 16/40\n",
      "450/450 [==============================] - 110s 244ms/step - loss: 0.5083 - accuracy: 0.8271 - val_loss: 0.8181 - val_accuracy: 0.7334\n",
      "Epoch 17/40\n",
      "450/450 [==============================] - 109s 243ms/step - loss: 0.4750 - accuracy: 0.8443 - val_loss: 0.8226 - val_accuracy: 0.7484\n",
      "Epoch 18/40\n",
      "450/450 [==============================] - 109s 241ms/step - loss: 0.4642 - accuracy: 0.8464 - val_loss: 0.7784 - val_accuracy: 0.7635\n",
      "Epoch 19/40\n",
      "450/450 [==============================] - 109s 241ms/step - loss: 0.4142 - accuracy: 0.8698 - val_loss: 0.8037 - val_accuracy: 0.7509\n",
      "Epoch 20/40\n",
      "450/450 [==============================] - 109s 242ms/step - loss: 0.4261 - accuracy: 0.8583 - val_loss: 0.8082 - val_accuracy: 0.7447\n",
      "Epoch 21/40\n",
      "450/450 [==============================] - 109s 241ms/step - loss: 0.3895 - accuracy: 0.8706 - val_loss: 0.8637 - val_accuracy: 0.7347\n",
      "Epoch 22/40\n",
      "450/450 [==============================] - 110s 244ms/step - loss: 0.3841 - accuracy: 0.8784 - val_loss: 0.8132 - val_accuracy: 0.7622\n",
      "Epoch 23/40\n",
      "450/450 [==============================] - 110s 245ms/step - loss: 0.3627 - accuracy: 0.8807 - val_loss: 0.8055 - val_accuracy: 0.7559\n",
      "Epoch 24/40\n",
      "450/450 [==============================] - 113s 250ms/step - loss: 0.3441 - accuracy: 0.8843 - val_loss: 0.8058 - val_accuracy: 0.7584\n",
      "Epoch 25/40\n",
      "450/450 [==============================] - 118s 263ms/step - loss: 0.3104 - accuracy: 0.9036 - val_loss: 0.8101 - val_accuracy: 0.7597\n",
      "Epoch 26/40\n",
      "450/450 [==============================] - 116s 258ms/step - loss: 0.2882 - accuracy: 0.9056 - val_loss: 0.8178 - val_accuracy: 0.7672\n",
      "Epoch 27/40\n",
      "450/450 [==============================] - 116s 257ms/step - loss: 0.2872 - accuracy: 0.9087 - val_loss: 0.8336 - val_accuracy: 0.7547\n",
      "Epoch 28/40\n",
      "450/450 [==============================] - 138s 307ms/step - loss: 0.2771 - accuracy: 0.9103 - val_loss: 0.9064 - val_accuracy: 0.7372\n",
      "Epoch 29/40\n",
      "450/450 [==============================] - 126s 280ms/step - loss: 0.2641 - accuracy: 0.9146 - val_loss: 0.7943 - val_accuracy: 0.7797\n",
      "Epoch 30/40\n",
      "450/450 [==============================] - 134s 299ms/step - loss: 0.2471 - accuracy: 0.9189 - val_loss: 0.8342 - val_accuracy: 0.7547\n",
      "Epoch 31/40\n",
      "450/450 [==============================] - 130s 289ms/step - loss: 0.2429 - accuracy: 0.9228 - val_loss: 0.8436 - val_accuracy: 0.7547\n",
      "Epoch 32/40\n",
      "450/450 [==============================] - 136s 302ms/step - loss: 0.2455 - accuracy: 0.9210 - val_loss: 0.8297 - val_accuracy: 0.7672\n",
      "Epoch 33/40\n",
      "450/450 [==============================] - 158s 352ms/step - loss: 0.2049 - accuracy: 0.9392 - val_loss: 0.8570 - val_accuracy: 0.7597\n",
      "Epoch 34/40\n",
      "450/450 [==============================] - 162s 361ms/step - loss: 0.2073 - accuracy: 0.9356 - val_loss: 0.8353 - val_accuracy: 0.7710\n",
      "Epoch 35/40\n",
      "450/450 [==============================] - 122s 272ms/step - loss: 0.1751 - accuracy: 0.9459 - val_loss: 0.7873 - val_accuracy: 0.7897\n",
      "Epoch 36/40\n",
      "450/450 [==============================] - 163s 362ms/step - loss: 0.1865 - accuracy: 0.9405 - val_loss: 0.8512 - val_accuracy: 0.7697\n",
      "Epoch 37/40\n",
      "450/450 [==============================] - 170s 378ms/step - loss: 0.1973 - accuracy: 0.9388 - val_loss: 0.8890 - val_accuracy: 0.7660\n",
      "Epoch 38/40\n",
      "450/450 [==============================] - 164s 364ms/step - loss: 0.2028 - accuracy: 0.9370 - val_loss: 0.8836 - val_accuracy: 0.7647\n",
      "Epoch 39/40\n",
      "450/450 [==============================] - 124s 276ms/step - loss: 0.1563 - accuracy: 0.9488 - val_loss: 0.9223 - val_accuracy: 0.7597\n",
      "Epoch 40/40\n",
      "450/450 [==============================] - 125s 278ms/step - loss: 0.1769 - accuracy: 0.9453 - val_loss: 0.8796 - val_accuracy: 0.7559\n"
     ]
    },
    {
     "data": {
      "text/plain": [
       "<keras.callbacks.History at 0x7f6d79999910>"
      ]
     },
     "execution_count": 16,
     "metadata": {},
     "output_type": "execute_result"
    }
   ],
   "source": [
    "model.fit(X_train,\n",
    "          y_train,\n",
    "          epochs = epochs,\n",
    "          batch_size = batch_size,\n",
    "          validation_data = (X_validation, y_validation)\n",
    "          )          #validation_data = (X_validation, y_validation)"
   ]
  },
  {
   "cell_type": "markdown",
   "metadata": {
    "id": "h7OP9C-WE4ed"
   },
   "source": [
    "Guardar modelo para usarlo luego sin tener que volver a entrenarlo"
   ]
  },
  {
   "cell_type": "code",
   "execution_count": 30,
   "metadata": {
    "colab": {
     "base_uri": "https://localhost:8080/"
    },
    "executionInfo": {
     "elapsed": 10906,
     "status": "ok",
     "timestamp": 1649090043587,
     "user": {
      "displayName": "Diego López",
      "userId": "15812219008632119568"
     },
     "user_tz": 180
    },
    "id": "YnKvgmq8E35t",
    "outputId": "3479d7d6-cfbc-4d8f-c9f7-cf16819bdf90"
   },
   "outputs": [
    {
     "name": "stderr",
     "output_type": "stream",
     "text": [
      "WARNING:absl:Found untraced functions such as lstm_cell_layer_call_fn, lstm_cell_layer_call_and_return_conditional_losses, lstm_cell_1_layer_call_fn, lstm_cell_1_layer_call_and_return_conditional_losses while saving (showing 4 of 4). These functions will not be directly callable after loading.\n"
     ]
    },
    {
     "name": "stdout",
     "output_type": "stream",
     "text": [
      "INFO:tensorflow:Assets written to: ram://0b7d49cf-4708-482b-b99a-3f7ef8bde11c/assets\n"
     ]
    },
    {
     "name": "stderr",
     "output_type": "stream",
     "text": [
      "INFO:tensorflow:Assets written to: ram://0b7d49cf-4708-482b-b99a-3f7ef8bde11c/assets\n",
      "WARNING:absl:<keras.layers.recurrent.LSTMCell object at 0x7f6d7e4b4650> has the same name 'LSTMCell' as a built-in Keras object. Consider renaming <class 'keras.layers.recurrent.LSTMCell'> to avoid naming conflicts when loading with `tf.keras.models.load_model`. If renaming is not possible, pass the object in the `custom_objects` parameter of the load function.\n",
      "WARNING:absl:<keras.layers.recurrent.LSTMCell object at 0x7f6d79b618d0> has the same name 'LSTMCell' as a built-in Keras object. Consider renaming <class 'keras.layers.recurrent.LSTMCell'> to avoid naming conflicts when loading with `tf.keras.models.load_model`. If renaming is not possible, pass the object in the `custom_objects` parameter of the load function.\n"
     ]
    }
   ],
   "source": [
    "#guardar el modelo\n",
    "with open('/content/drive/My Drive/Machine Learning TP/Modelos/Audio/Genero_model.pkl', 'wb') as handle:\n",
    "    pickle.dump(model, handle, pickle.HIGHEST_PROTOCOL)\n",
    "\n",
    "\n",
    "#model.save(save_path_model)"
   ]
  }
 ],
 "metadata": {
  "colab": {
   "authorship_tag": "ABX9TyNM2VeQLQCrLIZ3OBM52JHv",
   "collapsed_sections": [],
   "name": "ImplementacionRNN.ipynb",
   "provenance": []
  },
  "kernelspec": {
   "display_name": "Python 3 (ipykernel)",
   "language": "python",
   "name": "python3"
  },
  "language_info": {
   "codemirror_mode": {
    "name": "ipython",
    "version": 3
   },
   "file_extension": ".py",
   "mimetype": "text/x-python",
   "name": "python",
   "nbconvert_exporter": "python",
   "pygments_lexer": "ipython3",
   "version": "3.11.4"
  }
 },
 "nbformat": 4,
 "nbformat_minor": 1
}
